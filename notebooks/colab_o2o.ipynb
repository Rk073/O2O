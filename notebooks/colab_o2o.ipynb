{
 "cells": [
  {
   "cell_type": "markdown",
   "metadata": {},
   "source": [
    "# O2O RL: DSR + PPO (Colab Demo)\n",
    "This notebook collects a tiny offline dataset, trains a Data Support Representation (DSR), and runs online PPO using the DSR for both pessimism and intrinsic exploration."
   ]
  },
  {
   "cell_type": "code",
   "execution_count": null,
   "metadata": {},
   "outputs": [],
   "source": [
    "!nvidia-smi || true\n",
    "!python --version\n",
    "!pip -q install -r requirements.txt pandas matplotlib"
   ]
  },
  {
   "cell_type": "markdown",
   "metadata": {},
   "source": [
    "## 1) Prepare a small offline dataset"
   ]
  },
  {
   "cell_type": "code",
   "execution_count": null,
   "metadata": {},
   "outputs": [],
   "source": [
    "!python -m o2o.datasets --env_id CartPole-v1 --episodes 30 --out data/cartpole_offline.npz --seed 0\n",
    "!ls -lah data | tail -n +1 || dir data"
   ]
  },
  {
   "cell_type": "markdown",
   "metadata": {},
   "source": [
    "## 2) Train DSR on offline data"
   ]
  },
  {
   "cell_type": "code",
   "execution_count": null,
   "metadata": {},
   "outputs": [],
   "source": [
    "!python train_dsr.py --offline_path data/cartpole_offline.npz --env_id CartPole-v1 \\\n+    --dsr_out checkpts/cartpole_dsr.pt --epochs 10 --batch_size 1024 --device cuda\n",
    "!ls -lah checkpts | tail -n +1 || dir checkpts"
   ]
  },
  {
   "cell_type": "markdown",
   "metadata": {},
   "source": [
    "## 3) (Optional) Behavior Cloning init for actor"
   ]
  },
  {
   "cell_type": "code",
   "execution_count": null,
   "metadata": {"collapsed": true},
   "outputs": [],
   "source": [
    "# Uncomment to pretrain actor with BC (can speed up online learning)\n",
    "# !python pretrain_bc.py --offline_path data/cartpole_offline.npz --env_id CartPole-v1 \\\n+    #   --out_actor checkpts/bc_actor.pt --epochs 10 --device cuda\n",
    "# !ls -lah checkpts | tail -n +1 || dir checkpts"
   ]
  },
  {
   "cell_type": "markdown",
   "metadata": {},
   "source": [
    "## 4) Online learning with DSR-guided PPO"
   ]
  },
  {
   "cell_type": "code",
   "execution_count": null,
   "metadata": {},
   "outputs": [],
   "source": [
    "LOGDIR=\"logs\"\n",
    "!mkdir -p $LOGDIR || true\n",
    "!python train_online.py --env_id CartPole-v1 --dsr_path checkpts/cartpole_dsr.pt \\\n+      --total_steps 50000 --steps_per_epoch 2048 --train_iters 10 --minibatch_size 256 --device cuda \\\n+      --pess_alpha0 1.0 --pess_alpha_final 0.1 --pess_anneal_steps 100000 --pess_gamma 1.0 \\\n+      --adv_gate_tau 0.5 --adv_gate_k 5.0 --bonus_type boundary --bonus_eta 0.1 \\\n+      --log_csv $LOGDIR/run.csv\n",
    "!tail -n 5 $LOGDIR/run.csv || type $LOGDIR\\run.csv"
   ]
  },
  {
   "cell_type": "markdown",
   "metadata": {},
   "source": [
    "## 5) Plot learning curves"
   ]
  },
  {
   "cell_type": "code",
   "execution_count": null,
   "metadata": {},
   "outputs": [],
   "source": [
    "import pandas as pd, matplotlib.pyplot as plt\n",
    "df = pd.read_csv('logs/run.csv')\n",
    "fig, ax = plt.subplots(1,2, figsize=(10,4))\n",
    "ax[0].plot(df['steps'], df['avg_ep_ret']); ax[0].set_title('Average Episode Return'); ax[0].grid(True)\n",
    "ax[1].plot(df['steps'], df['support_mean']); ax[1].set_title('Mean DSR Support (on-policy)'); ax[1].grid(True)\n",
    "plt.tight_layout(); plt.show()"
   ]
  }
 ],
 "metadata": {
  "kernelspec": {
   "display_name": "Python 3",
   "language": "python",
   "name": "python3"
  },
  "language_info": {
   "file_extension": ".py",
   "mimetype": "text/x-python",
   "name": "python",
   "pygments_lexer": "ipython3"
  }
 },
 "nbformat": 4,
 "nbformat_minor": 5
}
